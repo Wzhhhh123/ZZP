{
 "cells": [
  {
   "cell_type": "code",
   "execution_count": 33,
   "id": "549b34b2",
   "metadata": {},
   "outputs": [],
   "source": [
    "import selenium"
   ]
  },
  {
   "cell_type": "code",
   "execution_count": 2,
   "id": "e621c970",
   "metadata": {},
   "outputs": [],
   "source": [
    "\n",
    "\n",
    "def __init__(self):\n",
    "    self.headers = {\n",
    "        'content-type': 'application/json',\n",
    "        'Cookie': 'kpf=PC_WEB; kpn=KUAISHOU_VISION; clientid=3; did=web_ea128125517a46bd491ae9ccb255e242; client_key=65890b29; didv=1646739254078; _bl_uid=pCldq3L00L61qCzj6fytnk2wmhz5; userId=270932146; kuaishou.server.web_st=ChZrdWFpc2hvdS5zZXJ2ZXIud2ViLnN0EqABH2BHihXp4liEYWMBFv9aguyfs8BsbINQIWqgoDw0SimMkpXwM7PKpKdJcZbU12QOyeKFaG4unV5EUkkEswL0HnA8_A9z2ujLlKN__gRsxU2B5kIYgirTDPiVJ3uPN1sU9mqvog3auoNJxDdbKjVeFNK1wQ5HTM_yUvYvmWOx9iC8IKcvnmo9YnG_J9ske-t-wiCWMgSCA25HN6MRqCMxuhoSnIqSq99L0mk4jolsseGdcwiNIiC8rjheuewIA1Bk3LwkNIYikU2zobcuvgAiBbMnBuDixygFMAE; kuaishou.server.web_ph=55c7e6b2033ea94a3447ea98082642cd6f1a',\n",
    "        'Host': 'www.ks.com',\n",
    "        'Origin': 'https://www.ks.com',\n",
    "        'Referer': 'https://www.ks.com/search/video?searchKey=%E9%BB%91%E4%B8%9D',\n",
    "        'User-Agent': 'Mozilla/5.0 (Windows NT 10.0; Win64; x64) AppleWebKit/537.36 (KHTML, like Gecko) Chrome/101.0.4951.67 Safari/537.36',\n",
    "    }\n",
    "    self.url = 'https://www.ks.com/graphql'"
   ]
  },
  {
   "cell_type": "code",
   "execution_count": 3,
   "id": "5366557a",
   "metadata": {},
   "outputs": [],
   "source": [
    "\n",
    "\n",
    "def get_search(self, keyword, pcursor):\n",
    "    \"\"\"\n",
    "    :param keyword: 关键词\n",
    "    :param pcursor: 页码\n",
    "    :return: 搜索作品\n",
    "    \"\"\"\n",
    "    json = {\n",
    "        'operationName': \"visionSearchPhoto\",\n",
    "        'query': \"fragment photoContent on PhotoEntity {\\n  id\\n  duration\\n  caption\\n  likeCount\\n  viewCount\\n  realLikeCount\\n  coverUrl\\n  photoUrl\\n  photoH265Url\\n  manifest\\n  manifestH265\\n  videoResource\\n  coverUrls {\\n    url\\n    __typename\\n  }\\n  timestamp  \\n  animatedCoverUrl\\n  distance\\n  videoRatio\\n  liked\\n  stereoType\\n  profileUserTopPhoto\\n  __typename\\n}\\n\\nfragment feedContent on Feed {\\n  type\\n  author {\\n    id\\n    name\\n    headerUrl\\n    following\\n    headerUrls {\\n      url\\n      __typename\\n    }\\n    __typename\\n  }\\n  photo {\\n    ...photoContent\\n    __typename\\n  }\\n  canAddComment\\n  llsid\\n  status\\n  currentPcursor\\n  __typename\\n}\\n\\nquery visionSearchPhoto($keyword: String, $pcursor: String, $searchSessionId: String, $page: String, $webPageArea: String) {\\n  visionSearchPhoto(keyword: $keyword, pcursor: $pcursor, searchSessionId: $searchSessionId, page: $page, webPageArea: $webPageArea) {\\n    result\\n    llsid\\n    webPageArea\\n    feeds {\\n      ...feedContent\\n      __typename\\n    }\\n    searchSessionId\\n    pcursor\\n    aladdinBanner {\\n      imgUrl\\n      link\\n      __typename\\n    }\\n    __typename\\n  }\\n}\\n\",\n",
    "        'variables': {'keyword': keyword, 'pcursor': pcursor, 'page': \"search\"}\n",
    "    }\n",
    "    response = requests.post(url=self.url, json=json, headers=self.headers)\n",
    "    json_data = response.json()\n",
    "    print(json_data)\n",
    "    return json_data"
   ]
  },
  {
   "cell_type": "code",
   "execution_count": 7,
   "id": "e87ef439",
   "metadata": {},
   "outputs": [],
   "source": [
    "\n",
    "\n",
    "def get_comments(self, photoId, pcursor):\n",
    "    \"\"\"\n",
    "    :param photoId: 作品id\n",
    "    :param pcursor: 页码\n",
    "    :return: 评论内容\n",
    "    \"\"\"\n",
    "    json = {\n",
    "        'operationName': \"commentListQuery\",\n",
    "        'query': \"query commentListQuery($photoId: String, $pcursor: String) {  visionCommentList(photoId: $photoId, pcursor: $pcursor) {\\n    commentCount\\n        rootComments {\\n      commentId\\n      authorId\\n      authorName\\n      content\\n      headurl\\n      timestamp\\n      likedCount\\n      realLikedCount\\n      liked\\n      status\\n      subCommentCount\\n      subCommentsPcursor\\n      subComments {\\n        commentId\\n        authorId\\n        authorName\\n        content\\n        headurl\\n        timestamp\\n        likedCount\\n        realLikedCount\\n        liked\\n        status\\n        replyToUserName\\n        replyTo\\n        __typename\\n      }\\n      __typename\\n    }\\n    __typename\\n  }\\n}\\n\",\n",
    "        'variables': {'photoId': photoId, 'pcursor': pcursor}\n",
    "    }\n",
    "    response = requests.post(url=self.url, json=json, headers=self.headers)\n",
    "    json_data = response.json()\n",
    "    print(json_data)\n",
    "    return json_data"
   ]
  },
  {
   "cell_type": "code",
   "execution_count": 8,
   "id": "4df56896",
   "metadata": {},
   "outputs": [],
   "source": [
    "\n",
    "def post_comment(self, content, photoAuthorId, photoId):\n",
    "    \"\"\"\n",
    "    :param content: 评论内容\n",
    "    :param photoAuthorId: 该作品的作者id\n",
    "    :param photoId: 作品id\n",
    "    :return: 有没有成功\n",
    "    \"\"\"\n",
    "    json = {\n",
    "        'operationName': \"visionAddComment\",\n",
    "        'query': \"mutation visionAddComment($photoId: String, $photoAuthorId: String, $content: String, $replyToCommentId: ID, $replyTo: ID, $expTag: String) {  (photoId: $photoId, photoAuthorId: $photoAuthorId, content: $content, replyToCommentId: $replyToCommentId, replyTo: $replyTo, expTag: $expTag) {\\n    result\\n    commentId\\n    content\\n    timestamp\\n    status\\n    __typename\\n  }\\n}\\n\",\n",
    "        'variables': {\n",
    "            'content': content,\n",
    "            'expTag': \"1_a/2005158523885162817_xpcwebsearchxxnull0\",\n",
    "            'photoAuthorId': photoAuthorId,\n",
    "            'photoId': photoId\n",
    "        }\n",
    "    }\n",
    "    response = requests.post(url=self.url, json=json, headers=self.headers)\n",
    "    json_data = response.json()\n",
    "    print(json_data)\n",
    "    return json_data"
   ]
  },
  {
   "cell_type": "code",
   "execution_count": 10,
   "id": "ce043348",
   "metadata": {},
   "outputs": [
    {
     "ename": "NameError",
     "evalue": "name 'KuaiShou' is not defined",
     "output_type": "error",
     "traceback": [
      "\u001b[0;31m---------------------------------------------------------------------------\u001b[0m",
      "\u001b[0;31mNameError\u001b[0m                                 Traceback (most recent call last)",
      "Cell \u001b[0;32mIn[10], line 2\u001b[0m\n\u001b[1;32m      1\u001b[0m \u001b[38;5;28;01mif\u001b[39;00m \u001b[38;5;18m__name__\u001b[39m \u001b[38;5;241m==\u001b[39m \u001b[38;5;124m'\u001b[39m\u001b[38;5;124m__main__\u001b[39m\u001b[38;5;124m'\u001b[39m:\n\u001b[0;32m----> 2\u001b[0m     kuaiShou \u001b[38;5;241m=\u001b[39m \u001b[43mKuaiShou\u001b[49m()\n\u001b[1;32m      3\u001b[0m     \u001b[38;5;66;03m# 获取评论\u001b[39;00m\n\u001b[1;32m      4\u001b[0m     kuaiShou\u001b[38;5;241m.\u001b[39mget_comments(\u001b[38;5;124m'\u001b[39m\u001b[38;5;124m3xzry7secwhunai\u001b[39m\u001b[38;5;124m'\u001b[39m, \u001b[38;5;124m'\u001b[39m\u001b[38;5;124m'\u001b[39m)\n",
      "\u001b[0;31mNameError\u001b[0m: name 'KuaiShou' is not defined"
     ]
    }
   ],
   "source": [
    "if __name__ == '__main__':\n",
    "    kuaishou = KuaiShou()\n",
    "    # 获取评论\n",
    "    kuaishou.get_comments('3xzry7secwhunai', '')\n",
    "    # 发布评论\n",
    "    kuaishou.post_comment('爱你', '3xgz9zaku7hig96', '3xydesqbvtrvcuq')\n"
   ]
  },
  {
   "cell_type": "code",
   "execution_count": 41,
   "id": "c7e8af0c",
   "metadata": {},
   "outputs": [],
   "source": [
    "from selenium import webdriver\n",
    "c=webdriver.Chrome() #获取chrome浏览器的驱动，并启动Chrome浏览器\n",
    "\n"
   ]
  },
  {
   "cell_type": "code",
   "execution_count": 5,
   "id": "b08e92da",
   "metadata": {},
   "outputs": [
    {
     "name": "stdout",
     "output_type": "stream",
     "text": [
      "WBPSESS : O5Ih4djSqPqk14bz_2-ekiP6emWa27iP5hXI2RK3fvCBRcoYtupHpN_YMyt7Xy01U7zIQgEwOXzM2MDd7HmH529J9X3JkxdtS8k9xytZEFSbci42gwk2VMBbY6BwVYNas6vjyY0hF7UOHT1sqUrpVU9NzRbIS9oceUBdL0EYOGk=\n",
      "SUBP : 0033WrSXqPxfM72-Ws9jqgMF55529P9D9WWCLPGRXaUWgSx35KsT2Oyc\n",
      "SUB : _2AkMTVJIgf8NxqwFRmPEdym_jaIR_yQ7EieKlCGP7JRMxHRl-yT9kqmo8tRB6ONS8zwgY9LsBtvlsl9NFz-bQj91pZ7dt\n",
      "XSRF-TOKEN : HbtpYRW7nim_n317tU0OHBDO\n"
     ]
    }
   ],
   "source": [
    "cookies = c.get_cookies()\n",
    "for cookie in cookies:\n",
    "    # 值打印cookie中的name和value\n",
    "    print(\"%s : %s\" % (cookie['name'], cookie['value']))"
   ]
  },
  {
   "cell_type": "code",
   "execution_count": 13,
   "id": "cf6fba31",
   "metadata": {},
   "outputs": [],
   "source": [
    "dict={}\n",
    "for cookie in cookies:\n",
    "    dict[cookie['name']] = cookie['value']"
   ]
  },
  {
   "cell_type": "code",
   "execution_count": null,
   "id": "a080d737",
   "metadata": {},
   "outputs": [],
   "source": [
    "\n",
    "# 4.3 添加cookie\n",
    "\n",
    " \n",
    "# 添加后再次获取\n",
    "cookies = driver.get_cookies()\n",
    "for cookie in cookies:\n",
    "    print(\"%s -> %s\" % (cookie['name'], cookie['value']))\n",
    "\n",
    "\n",
    "\n",
    "# 4.5 删除全部cookie\n",
    "driver.delete_all_cookies()\n",
    "print(driver.get_cookies())\n",
    " \n",
    "# 5.关闭浏览器\n",
    "sleep(2)\n",
    "driver.quit()\n"
   ]
  },
  {
   "cell_type": "code",
   "execution_count": 7,
   "id": "27208d8a",
   "metadata": {},
   "outputs": [],
   "source": [
    "c.delete_all_cookies()"
   ]
  },
  {
   "cell_type": "code",
   "execution_count": 16,
   "id": "84c85ee4",
   "metadata": {},
   "outputs": [
    {
     "ename": "InvalidArgumentException",
     "evalue": "Message: invalid argument: missing 'name'\n  (Session info: chrome=110.0.5481.177)\nStacktrace:\n0   chromedriver                        0x0000000106594138 chromedriver + 4923704\n1   chromedriver                        0x000000010650c9d3 chromedriver + 4368851\n2   chromedriver                        0x0000000106155787 chromedriver + 472967\n3   chromedriver                        0x00000001061f14e1 chromedriver + 1111265\n4   chromedriver                        0x00000001061c2fb2 chromedriver + 921522\n5   chromedriver                        0x00000001061ddc0f chromedriver + 1031183\n6   chromedriver                        0x00000001061c2d23 chromedriver + 920867\n7   chromedriver                        0x0000000106189a4b chromedriver + 686667\n8   chromedriver                        0x000000010618b044 chromedriver + 692292\n9   chromedriver                        0x000000010655f8fe chromedriver + 4708606\n10  chromedriver                        0x0000000106564e22 chromedriver + 4730402\n11  chromedriver                        0x000000010656d6bf chromedriver + 4765375\n12  chromedriver                        0x0000000106565e80 chromedriver + 4734592\n13  chromedriver                        0x0000000106536975 chromedriver + 4540789\n14  chromedriver                        0x0000000106587e78 chromedriver + 4873848\n15  chromedriver                        0x0000000106587ff5 chromedriver + 4874229\n16  chromedriver                        0x000000010659c6de chromedriver + 4957918\n17  libsystem_pthread.dylib             0x00007ff80d6a2259 _pthread_start + 125\n18  libsystem_pthread.dylib             0x00007ff80d69dc7b thread_start + 15\n",
     "output_type": "error",
     "traceback": [
      "\u001b[0;31m---------------------------------------------------------------------------\u001b[0m",
      "\u001b[0;31mInvalidArgumentException\u001b[0m                  Traceback (most recent call last)",
      "Cell \u001b[0;32mIn[16], line 1\u001b[0m\n\u001b[0;32m----> 1\u001b[0m \u001b[43mc\u001b[49m\u001b[38;5;241;43m.\u001b[39;49m\u001b[43madd_cookie\u001b[49m\u001b[43m(\u001b[49m\u001b[38;5;28;43mdict\u001b[39;49m\u001b[43m)\u001b[49m\n",
      "File \u001b[0;32m/Library/Frameworks/Python.framework/Versions/3.8/lib/python3.8/site-packages/selenium/webdriver/remote/webdriver.py:726\u001b[0m, in \u001b[0;36mWebDriver.add_cookie\u001b[0;34m(self, cookie_dict)\u001b[0m\n\u001b[1;32m    724\u001b[0m     \u001b[38;5;28mself\u001b[39m\u001b[38;5;241m.\u001b[39mexecute(Command\u001b[38;5;241m.\u001b[39mADD_COOKIE, {\u001b[38;5;124m\"\u001b[39m\u001b[38;5;124mcookie\u001b[39m\u001b[38;5;124m\"\u001b[39m: cookie_dict})\n\u001b[1;32m    725\u001b[0m \u001b[38;5;28;01melse\u001b[39;00m:\n\u001b[0;32m--> 726\u001b[0m     \u001b[38;5;28;43mself\u001b[39;49m\u001b[38;5;241;43m.\u001b[39;49m\u001b[43mexecute\u001b[49m\u001b[43m(\u001b[49m\u001b[43mCommand\u001b[49m\u001b[38;5;241;43m.\u001b[39;49m\u001b[43mADD_COOKIE\u001b[49m\u001b[43m,\u001b[49m\u001b[43m \u001b[49m\u001b[43m{\u001b[49m\u001b[38;5;124;43m\"\u001b[39;49m\u001b[38;5;124;43mcookie\u001b[39;49m\u001b[38;5;124;43m\"\u001b[39;49m\u001b[43m:\u001b[49m\u001b[43m \u001b[49m\u001b[43mcookie_dict\u001b[49m\u001b[43m}\u001b[49m\u001b[43m)\u001b[49m\n",
      "File \u001b[0;32m/Library/Frameworks/Python.framework/Versions/3.8/lib/python3.8/site-packages/selenium/webdriver/remote/webdriver.py:440\u001b[0m, in \u001b[0;36mWebDriver.execute\u001b[0;34m(self, driver_command, params)\u001b[0m\n\u001b[1;32m    438\u001b[0m response \u001b[38;5;241m=\u001b[39m \u001b[38;5;28mself\u001b[39m\u001b[38;5;241m.\u001b[39mcommand_executor\u001b[38;5;241m.\u001b[39mexecute(driver_command, params)\n\u001b[1;32m    439\u001b[0m \u001b[38;5;28;01mif\u001b[39;00m response:\n\u001b[0;32m--> 440\u001b[0m     \u001b[38;5;28;43mself\u001b[39;49m\u001b[38;5;241;43m.\u001b[39;49m\u001b[43merror_handler\u001b[49m\u001b[38;5;241;43m.\u001b[39;49m\u001b[43mcheck_response\u001b[49m\u001b[43m(\u001b[49m\u001b[43mresponse\u001b[49m\u001b[43m)\u001b[49m\n\u001b[1;32m    441\u001b[0m     response[\u001b[38;5;124m\"\u001b[39m\u001b[38;5;124mvalue\u001b[39m\u001b[38;5;124m\"\u001b[39m] \u001b[38;5;241m=\u001b[39m \u001b[38;5;28mself\u001b[39m\u001b[38;5;241m.\u001b[39m_unwrap_value(response\u001b[38;5;241m.\u001b[39mget(\u001b[38;5;124m\"\u001b[39m\u001b[38;5;124mvalue\u001b[39m\u001b[38;5;124m\"\u001b[39m, \u001b[38;5;28;01mNone\u001b[39;00m))\n\u001b[1;32m    442\u001b[0m     \u001b[38;5;28;01mreturn\u001b[39;00m response\n",
      "File \u001b[0;32m/Library/Frameworks/Python.framework/Versions/3.8/lib/python3.8/site-packages/selenium/webdriver/remote/errorhandler.py:245\u001b[0m, in \u001b[0;36mErrorHandler.check_response\u001b[0;34m(self, response)\u001b[0m\n\u001b[1;32m    243\u001b[0m         alert_text \u001b[38;5;241m=\u001b[39m value[\u001b[38;5;124m\"\u001b[39m\u001b[38;5;124malert\u001b[39m\u001b[38;5;124m\"\u001b[39m]\u001b[38;5;241m.\u001b[39mget(\u001b[38;5;124m\"\u001b[39m\u001b[38;5;124mtext\u001b[39m\u001b[38;5;124m\"\u001b[39m)\n\u001b[1;32m    244\u001b[0m     \u001b[38;5;28;01mraise\u001b[39;00m exception_class(message, screen, stacktrace, alert_text)  \u001b[38;5;66;03m# type: ignore[call-arg]  # mypy is not smart enough here\u001b[39;00m\n\u001b[0;32m--> 245\u001b[0m \u001b[38;5;28;01mraise\u001b[39;00m exception_class(message, screen, stacktrace)\n",
      "\u001b[0;31mInvalidArgumentException\u001b[0m: Message: invalid argument: missing 'name'\n  (Session info: chrome=110.0.5481.177)\nStacktrace:\n0   chromedriver                        0x0000000106594138 chromedriver + 4923704\n1   chromedriver                        0x000000010650c9d3 chromedriver + 4368851\n2   chromedriver                        0x0000000106155787 chromedriver + 472967\n3   chromedriver                        0x00000001061f14e1 chromedriver + 1111265\n4   chromedriver                        0x00000001061c2fb2 chromedriver + 921522\n5   chromedriver                        0x00000001061ddc0f chromedriver + 1031183\n6   chromedriver                        0x00000001061c2d23 chromedriver + 920867\n7   chromedriver                        0x0000000106189a4b chromedriver + 686667\n8   chromedriver                        0x000000010618b044 chromedriver + 692292\n9   chromedriver                        0x000000010655f8fe chromedriver + 4708606\n10  chromedriver                        0x0000000106564e22 chromedriver + 4730402\n11  chromedriver                        0x000000010656d6bf chromedriver + 4765375\n12  chromedriver                        0x0000000106565e80 chromedriver + 4734592\n13  chromedriver                        0x0000000106536975 chromedriver + 4540789\n14  chromedriver                        0x0000000106587e78 chromedriver + 4873848\n15  chromedriver                        0x0000000106587ff5 chromedriver + 4874229\n16  chromedriver                        0x000000010659c6de chromedriver + 4957918\n17  libsystem_pthread.dylib             0x00007ff80d6a2259 _pthread_start + 125\n18  libsystem_pthread.dylib             0x00007ff80d69dc7b thread_start + 15\n"
     ]
    }
   ],
   "source": [
    "cookie = {\"name\": \"key-aaaaaaa\", \"value\": \"value-aaaaaaa\"}\n",
    "driver.add_cookie(cookie)"
   ]
  },
  {
   "cell_type": "code",
   "execution_count": 17,
   "id": "644fa4f9",
   "metadata": {},
   "outputs": [
    {
     "data": {
      "text/plain": [
       "{'WBPSESS': 'O5Ih4djSqPqk14bz_2-ekiP6emWa27iP5hXI2RK3fvCBRcoYtupHpN_YMyt7Xy01U7zIQgEwOXzM2MDd7HmH529J9X3JkxdtS8k9xytZEFSbci42gwk2VMBbY6BwVYNas6vjyY0hF7UOHT1sqUrpVU9NzRbIS9oceUBdL0EYOGk=',\n",
       " 'SUBP': '0033WrSXqPxfM72-Ws9jqgMF55529P9D9WWCLPGRXaUWgSx35KsT2Oyc',\n",
       " 'SUB': '_2AkMTVJIgf8NxqwFRmPEdym_jaIR_yQ7EieKlCGP7JRMxHRl-yT9kqmo8tRB6ONS8zwgY9LsBtvlsl9NFz-bQj91pZ7dt',\n",
       " 'XSRF-TOKEN': 'HbtpYRW7nim_n317tU0OHBDO'}"
      ]
     },
     "execution_count": 17,
     "metadata": {},
     "output_type": "execute_result"
    }
   ],
   "source": [
    "dict"
   ]
  },
  {
   "cell_type": "code",
   "execution_count": 19,
   "id": "ee77fed6",
   "metadata": {},
   "outputs": [
    {
     "data": {
      "text/plain": [
       "[{'domain': 'weibo.com',\n",
       "  'expiry': 1678339735,\n",
       "  'httpOnly': True,\n",
       "  'name': 'WBPSESS',\n",
       "  'path': '/',\n",
       "  'sameSite': 'Lax',\n",
       "  'secure': True,\n",
       "  'value': 'O5Ih4djSqPqk14bz_2-ekiP6emWa27iP5hXI2RK3fvCBRcoYtupHpN_YMyt7Xy01U7zIQgEwOXzM2MDd7HmH529J9X3JkxdtS8k9xytZEFSbci42gwk2VMBbY6BwVYNas6vjyY0hF7UOHT1sqUrpVU9NzRbIS9oceUBdL0EYOGk='},\n",
       " {'domain': '.weibo.com',\n",
       "  'expiry': 1709789335,\n",
       "  'httpOnly': False,\n",
       "  'name': 'SUBP',\n",
       "  'path': '/',\n",
       "  'sameSite': 'Lax',\n",
       "  'secure': False,\n",
       "  'value': '0033WrSXqPxfM72-Ws9jqgMF55529P9D9WWCLPGRXaUWgSx35KsT2Oyc'},\n",
       " {'domain': '.weibo.com',\n",
       "  'expiry': 1709789335,\n",
       "  'httpOnly': True,\n",
       "  'name': 'SUB',\n",
       "  'path': '/',\n",
       "  'sameSite': 'None',\n",
       "  'secure': True,\n",
       "  'value': '_2AkMTVJIgf8NxqwFRmPEdym_jaIR_yQ7EieKlCGP7JRMxHRl-yT9kqmo8tRB6ONS8zwgY9LsBtvlsl9NFz-bQj91pZ7dt'},\n",
       " {'domain': 'weibo.com',\n",
       "  'httpOnly': False,\n",
       "  'name': 'XSRF-TOKEN',\n",
       "  'path': '/',\n",
       "  'sameSite': 'Lax',\n",
       "  'secure': True,\n",
       "  'value': 'HbtpYRW7nim_n317tU0OHBDO'}]"
      ]
     },
     "execution_count": 19,
     "metadata": {},
     "output_type": "execute_result"
    }
   ],
   "source": [
    "cookies"
   ]
  },
  {
   "cell_type": "code",
   "execution_count": 48,
   "id": "76276d48",
   "metadata": {},
   "outputs": [],
   "source": [
    "import json\n",
    "with open('cookies.txt','w') as f:\n",
    "    # 将cookies保存为json格式\n",
    "    f.write(json.dumps(driver.get_cookies()))"
   ]
  },
  {
   "cell_type": "code",
   "execution_count": 31,
   "id": "e1f16ee6",
   "metadata": {},
   "outputs": [],
   "source": [
    "from selenium import webdriver\n",
    "import time\n",
    "import json\n",
    "\n",
    "# 填写webdriver的保存目录\n",
    "driver = webdriver.Chrome()\n",
    "driver.delete_all_cookies()\n",
    "\n",
    "\n"
   ]
  },
  {
   "cell_type": "code",
   "execution_count": 47,
   "id": "e79133d7",
   "metadata": {},
   "outputs": [],
   "source": [
    "driver.delete_all_cookies()\n",
    "with open('cookies.txt','r') as f:\n",
    "    # 使用json读取cookies 注意读取的是文件 所以用load而不是loads\n",
    "    cookies_list = json.load(f)\n",
    "    for cookie in cookies_list:\n",
    "        driver.add_cookie(cookie)\n",
    "# 记得写完整的url 包括http和https\n"
   ]
  },
  {
   "cell_type": "code",
   "execution_count": 49,
   "id": "035d04cb",
   "metadata": {},
   "outputs": [
    {
     "ename": "InvalidCookieDomainException",
     "evalue": "Message: Document is cookie-averse\nStacktrace:\nRemoteError@chrome://remote/content/shared/RemoteError.sys.mjs:8:8\nWebDriverError@chrome://remote/content/shared/webdriver/Errors.sys.mjs:180:5\nInvalidCookieDomainError@chrome://remote/content/shared/webdriver/Errors.sys.mjs:320:5\nGeckoDriver.prototype.addCookie@chrome://remote/content/marionette/driver.sys.mjs:2014:11\n",
     "output_type": "error",
     "traceback": [
      "\u001b[0;31m---------------------------------------------------------------------------\u001b[0m",
      "\u001b[0;31mInvalidCookieDomainException\u001b[0m              Traceback (most recent call last)",
      "Cell \u001b[0;32mIn[49], line 12\u001b[0m\n\u001b[1;32m     10\u001b[0m     cookies_list \u001b[38;5;241m=\u001b[39m json\u001b[38;5;241m.\u001b[39mload(f)\n\u001b[1;32m     11\u001b[0m     \u001b[38;5;28;01mfor\u001b[39;00m cookie \u001b[38;5;129;01min\u001b[39;00m cookies_list:\n\u001b[0;32m---> 12\u001b[0m         \u001b[43mdriver\u001b[49m\u001b[38;5;241;43m.\u001b[39;49m\u001b[43madd_cookie\u001b[49m\u001b[43m(\u001b[49m\u001b[43mcookie\u001b[49m\u001b[43m)\u001b[49m\n\u001b[1;32m     13\u001b[0m \u001b[38;5;66;03m# 记得写完整的url 包括http和https\u001b[39;00m\n\u001b[1;32m     14\u001b[0m driver\u001b[38;5;241m.\u001b[39mget(\u001b[38;5;124m'\u001b[39m\u001b[38;5;124mhttps://weibo.com/2803301701/Mwhn6FzxV\u001b[39m\u001b[38;5;124m'\u001b[39m)\u001b[38;5;66;03m#打开百度\u001b[39;00m\n",
      "File \u001b[0;32m/Library/Frameworks/Python.framework/Versions/3.8/lib/python3.8/site-packages/selenium/webdriver/remote/webdriver.py:724\u001b[0m, in \u001b[0;36mWebDriver.add_cookie\u001b[0;34m(self, cookie_dict)\u001b[0m\n\u001b[1;32m    722\u001b[0m \u001b[38;5;28;01mif\u001b[39;00m \u001b[38;5;124m\"\u001b[39m\u001b[38;5;124msameSite\u001b[39m\u001b[38;5;124m\"\u001b[39m \u001b[38;5;129;01min\u001b[39;00m cookie_dict:\n\u001b[1;32m    723\u001b[0m     \u001b[38;5;28;01massert\u001b[39;00m cookie_dict[\u001b[38;5;124m\"\u001b[39m\u001b[38;5;124msameSite\u001b[39m\u001b[38;5;124m\"\u001b[39m] \u001b[38;5;129;01min\u001b[39;00m [\u001b[38;5;124m\"\u001b[39m\u001b[38;5;124mStrict\u001b[39m\u001b[38;5;124m\"\u001b[39m, \u001b[38;5;124m\"\u001b[39m\u001b[38;5;124mLax\u001b[39m\u001b[38;5;124m\"\u001b[39m, \u001b[38;5;124m\"\u001b[39m\u001b[38;5;124mNone\u001b[39m\u001b[38;5;124m\"\u001b[39m]\n\u001b[0;32m--> 724\u001b[0m     \u001b[38;5;28;43mself\u001b[39;49m\u001b[38;5;241;43m.\u001b[39;49m\u001b[43mexecute\u001b[49m\u001b[43m(\u001b[49m\u001b[43mCommand\u001b[49m\u001b[38;5;241;43m.\u001b[39;49m\u001b[43mADD_COOKIE\u001b[49m\u001b[43m,\u001b[49m\u001b[43m \u001b[49m\u001b[43m{\u001b[49m\u001b[38;5;124;43m\"\u001b[39;49m\u001b[38;5;124;43mcookie\u001b[39;49m\u001b[38;5;124;43m\"\u001b[39;49m\u001b[43m:\u001b[49m\u001b[43m \u001b[49m\u001b[43mcookie_dict\u001b[49m\u001b[43m}\u001b[49m\u001b[43m)\u001b[49m\n\u001b[1;32m    725\u001b[0m \u001b[38;5;28;01melse\u001b[39;00m:\n\u001b[1;32m    726\u001b[0m     \u001b[38;5;28mself\u001b[39m\u001b[38;5;241m.\u001b[39mexecute(Command\u001b[38;5;241m.\u001b[39mADD_COOKIE, {\u001b[38;5;124m\"\u001b[39m\u001b[38;5;124mcookie\u001b[39m\u001b[38;5;124m\"\u001b[39m: cookie_dict})\n",
      "File \u001b[0;32m/Library/Frameworks/Python.framework/Versions/3.8/lib/python3.8/site-packages/selenium/webdriver/remote/webdriver.py:440\u001b[0m, in \u001b[0;36mWebDriver.execute\u001b[0;34m(self, driver_command, params)\u001b[0m\n\u001b[1;32m    438\u001b[0m response \u001b[38;5;241m=\u001b[39m \u001b[38;5;28mself\u001b[39m\u001b[38;5;241m.\u001b[39mcommand_executor\u001b[38;5;241m.\u001b[39mexecute(driver_command, params)\n\u001b[1;32m    439\u001b[0m \u001b[38;5;28;01mif\u001b[39;00m response:\n\u001b[0;32m--> 440\u001b[0m     \u001b[38;5;28;43mself\u001b[39;49m\u001b[38;5;241;43m.\u001b[39;49m\u001b[43merror_handler\u001b[49m\u001b[38;5;241;43m.\u001b[39;49m\u001b[43mcheck_response\u001b[49m\u001b[43m(\u001b[49m\u001b[43mresponse\u001b[49m\u001b[43m)\u001b[49m\n\u001b[1;32m    441\u001b[0m     response[\u001b[38;5;124m\"\u001b[39m\u001b[38;5;124mvalue\u001b[39m\u001b[38;5;124m\"\u001b[39m] \u001b[38;5;241m=\u001b[39m \u001b[38;5;28mself\u001b[39m\u001b[38;5;241m.\u001b[39m_unwrap_value(response\u001b[38;5;241m.\u001b[39mget(\u001b[38;5;124m\"\u001b[39m\u001b[38;5;124mvalue\u001b[39m\u001b[38;5;124m\"\u001b[39m, \u001b[38;5;28;01mNone\u001b[39;00m))\n\u001b[1;32m    442\u001b[0m     \u001b[38;5;28;01mreturn\u001b[39;00m response\n",
      "File \u001b[0;32m/Library/Frameworks/Python.framework/Versions/3.8/lib/python3.8/site-packages/selenium/webdriver/remote/errorhandler.py:245\u001b[0m, in \u001b[0;36mErrorHandler.check_response\u001b[0;34m(self, response)\u001b[0m\n\u001b[1;32m    243\u001b[0m         alert_text \u001b[38;5;241m=\u001b[39m value[\u001b[38;5;124m\"\u001b[39m\u001b[38;5;124malert\u001b[39m\u001b[38;5;124m\"\u001b[39m]\u001b[38;5;241m.\u001b[39mget(\u001b[38;5;124m\"\u001b[39m\u001b[38;5;124mtext\u001b[39m\u001b[38;5;124m\"\u001b[39m)\n\u001b[1;32m    244\u001b[0m     \u001b[38;5;28;01mraise\u001b[39;00m exception_class(message, screen, stacktrace, alert_text)  \u001b[38;5;66;03m# type: ignore[call-arg]  # mypy is not smart enough here\u001b[39;00m\n\u001b[0;32m--> 245\u001b[0m \u001b[38;5;28;01mraise\u001b[39;00m exception_class(message, screen, stacktrace)\n",
      "\u001b[0;31mInvalidCookieDomainException\u001b[0m: Message: Document is cookie-averse\nStacktrace:\nRemoteError@chrome://remote/content/shared/RemoteError.sys.mjs:8:8\nWebDriverError@chrome://remote/content/shared/webdriver/Errors.sys.mjs:180:5\nInvalidCookieDomainError@chrome://remote/content/shared/webdriver/Errors.sys.mjs:320:5\nGeckoDriver.prototype.addCookie@chrome://remote/content/marionette/driver.sys.mjs:2014:11\n"
     ]
    }
   ],
   "source": [
    "from selenium.webdriver import Firefox\n",
    "from selenium.webdriver import FirefoxOptions\n",
    "import time,re\n",
    "option = FirefoxOptions()\n",
    "option.add_argument(\"--headless\")  # 隐藏浏览器\n",
    "driver=Firefox(executable_path='geckodriver')\n",
    "driver.delete_all_cookies()\n",
    "driver.get('https://weibo.com/2803301701/Mwhn6FzxV')\n",
    "with open('cookies.txt','r') as f:\n",
    "    # 使用json读取cookies 注意读取的是文件 所以用load而不是loads\n",
    "    cookies_list = json.load(f)\n",
    "    for cookie in cookies_list:\n",
    "        driver.add_cookie(cookie)\n",
    "# 记得写完整的url 包括http和https\n",
    "driver.get('https://weibo.com/2803301701/Mwhn6FzxV')"
   ]
  },
  {
   "cell_type": "code",
   "execution_count": 58,
   "id": "368e45be",
   "metadata": {},
   "outputs": [],
   "source": [
    "from selenium.webdriver.common.by import By\n",
    "input=driver.find_element(By.XPATH, \"/html/body/div/div[1]/div[2]/div[2]/main/div[1]/div/div[2]/div[2]/div[1]/div[2]/div/div[1]/div/textarea\")\n",
    "input.send_keys('节日快乐')\n",
    "driver.find_element(By.XPATH, \"/html/body/div/div[1]/div[2]/div[2]/main/div[1]/div/div[2]/div[2]/div[1]/div[2]/div/div[3]/div/button\").click()"
   ]
  },
  {
   "cell_type": "code",
   "execution_count": 59,
   "id": "c43f5caa",
   "metadata": {},
   "outputs": [],
   "source": []
  },
  {
   "cell_type": "code",
   "execution_count": 60,
   "id": "b3364e5a",
   "metadata": {},
   "outputs": [
    {
     "data": {
      "text/plain": [
       "True"
      ]
     },
     "execution_count": 60,
     "metadata": {},
     "output_type": "execute_result"
    }
   ],
   "source": [
    "commet=driver.find_element(By.XPATH, \"/html/body/div/div[1]/div[2]/div[2]/main/div[1]/div/div[2]/div[2]/div[3]/div/div/div/div/div/div/div[1]/div/div/div/div/div[1]\")\n",
    "commet.screenshot('5.png')"
   ]
  },
  {
   "cell_type": "code",
   "execution_count": 57,
   "id": "81d659a4",
   "metadata": {},
   "outputs": [],
   "source": []
  },
  {
   "cell_type": "code",
   "execution_count": null,
   "id": "538680b8",
   "metadata": {},
   "outputs": [],
   "source": []
  }
 ],
 "metadata": {
  "kernelspec": {
   "display_name": "Python 3 (ipykernel)",
   "language": "python",
   "name": "python3"
  },
  "language_info": {
   "codemirror_mode": {
    "name": "ipython",
    "version": 3
   },
   "file_extension": ".py",
   "mimetype": "text/x-python",
   "name": "python",
   "nbconvert_exporter": "python",
   "pygments_lexer": "ipython3",
   "version": "3.8.8"
  }
 },
 "nbformat": 4,
 "nbformat_minor": 5
}
