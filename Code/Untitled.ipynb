{
 "cells": [
  {
   "cell_type": "code",
   "execution_count": 1,
   "id": "549b34b2",
   "metadata": {},
   "outputs": [],
   "source": [
    "import selenium"
   ]
  },
  {
   "cell_type": "code",
   "execution_count": 2,
   "id": "e621c970",
   "metadata": {},
   "outputs": [],
   "source": [
    "\n",
    "\n",
    "def __init__(self):\n",
    "    self.headers = {\n",
    "        'content-type': 'application/json',\n",
    "        'Cookie': 'kpf=PC_WEB; kpn=KUAISHOU_VISION; clientid=3; did=web_ea128125517a46bd491ae9ccb255e242; client_key=65890b29; didv=1646739254078; _bl_uid=pCldq3L00L61qCzj6fytnk2wmhz5; userId=270932146; kuaishou.server.web_st=ChZrdWFpc2hvdS5zZXJ2ZXIud2ViLnN0EqABH2BHihXp4liEYWMBFv9aguyfs8BsbINQIWqgoDw0SimMkpXwM7PKpKdJcZbU12QOyeKFaG4unV5EUkkEswL0HnA8_A9z2ujLlKN__gRsxU2B5kIYgirTDPiVJ3uPN1sU9mqvog3auoNJxDdbKjVeFNK1wQ5HTM_yUvYvmWOx9iC8IKcvnmo9YnG_J9ske-t-wiCWMgSCA25HN6MRqCMxuhoSnIqSq99L0mk4jolsseGdcwiNIiC8rjheuewIA1Bk3LwkNIYikU2zobcuvgAiBbMnBuDixygFMAE; kuaishou.server.web_ph=55c7e6b2033ea94a3447ea98082642cd6f1a',\n",
    "        'Host': 'www.ks.com',\n",
    "        'Origin': 'https://www.ks.com',\n",
    "        'Referer': 'https://www.ks.com/search/video?searchKey=%E9%BB%91%E4%B8%9D',\n",
    "        'User-Agent': 'Mozilla/5.0 (Windows NT 10.0; Win64; x64) AppleWebKit/537.36 (KHTML, like Gecko) Chrome/101.0.4951.67 Safari/537.36',\n",
    "    }\n",
    "    self.url = 'https://www.ks.com/graphql'"
   ]
  },
  {
   "cell_type": "code",
   "execution_count": 3,
   "id": "5366557a",
   "metadata": {},
   "outputs": [],
   "source": [
    "\n",
    "\n",
    "def get_search(self, keyword, pcursor):\n",
    "    \"\"\"\n",
    "    :param keyword: 关键词\n",
    "    :param pcursor: 页码\n",
    "    :return: 搜索作品\n",
    "    \"\"\"\n",
    "    json = {\n",
    "        'operationName': \"visionSearchPhoto\",\n",
    "        'query': \"fragment photoContent on PhotoEntity {\\n  id\\n  duration\\n  caption\\n  likeCount\\n  viewCount\\n  realLikeCount\\n  coverUrl\\n  photoUrl\\n  photoH265Url\\n  manifest\\n  manifestH265\\n  videoResource\\n  coverUrls {\\n    url\\n    __typename\\n  }\\n  timestamp  \\n  animatedCoverUrl\\n  distance\\n  videoRatio\\n  liked\\n  stereoType\\n  profileUserTopPhoto\\n  __typename\\n}\\n\\nfragment feedContent on Feed {\\n  type\\n  author {\\n    id\\n    name\\n    headerUrl\\n    following\\n    headerUrls {\\n      url\\n      __typename\\n    }\\n    __typename\\n  }\\n  photo {\\n    ...photoContent\\n    __typename\\n  }\\n  canAddComment\\n  llsid\\n  status\\n  currentPcursor\\n  __typename\\n}\\n\\nquery visionSearchPhoto($keyword: String, $pcursor: String, $searchSessionId: String, $page: String, $webPageArea: String) {\\n  visionSearchPhoto(keyword: $keyword, pcursor: $pcursor, searchSessionId: $searchSessionId, page: $page, webPageArea: $webPageArea) {\\n    result\\n    llsid\\n    webPageArea\\n    feeds {\\n      ...feedContent\\n      __typename\\n    }\\n    searchSessionId\\n    pcursor\\n    aladdinBanner {\\n      imgUrl\\n      link\\n      __typename\\n    }\\n    __typename\\n  }\\n}\\n\",\n",
    "        'variables': {'keyword': keyword, 'pcursor': pcursor, 'page': \"search\"}\n",
    "    }\n",
    "    response = requests.post(url=self.url, json=json, headers=self.headers)\n",
    "    json_data = response.json()\n",
    "    print(json_data)\n",
    "    return json_data"
   ]
  },
  {
   "cell_type": "code",
   "execution_count": 7,
   "id": "e87ef439",
   "metadata": {},
   "outputs": [],
   "source": [
    "\n",
    "\n",
    "def get_comments(self, photoId, pcursor):\n",
    "    \"\"\"\n",
    "    :param photoId: 作品id\n",
    "    :param pcursor: 页码\n",
    "    :return: 评论内容\n",
    "    \"\"\"\n",
    "    json = {\n",
    "        'operationName': \"commentListQuery\",\n",
    "        'query': \"query commentListQuery($photoId: String, $pcursor: String) {  visionCommentList(photoId: $photoId, pcursor: $pcursor) {\\n    commentCount\\n        rootComments {\\n      commentId\\n      authorId\\n      authorName\\n      content\\n      headurl\\n      timestamp\\n      likedCount\\n      realLikedCount\\n      liked\\n      status\\n      subCommentCount\\n      subCommentsPcursor\\n      subComments {\\n        commentId\\n        authorId\\n        authorName\\n        content\\n        headurl\\n        timestamp\\n        likedCount\\n        realLikedCount\\n        liked\\n        status\\n        replyToUserName\\n        replyTo\\n        __typename\\n      }\\n      __typename\\n    }\\n    __typename\\n  }\\n}\\n\",\n",
    "        'variables': {'photoId': photoId, 'pcursor': pcursor}\n",
    "    }\n",
    "    response = requests.post(url=self.url, json=json, headers=self.headers)\n",
    "    json_data = response.json()\n",
    "    print(json_data)\n",
    "    return json_data"
   ]
  },
  {
   "cell_type": "code",
   "execution_count": 8,
   "id": "4df56896",
   "metadata": {},
   "outputs": [],
   "source": [
    "\n",
    "def post_comment(self, content, photoAuthorId, photoId):\n",
    "    \"\"\"\n",
    "    :param content: 评论内容\n",
    "    :param photoAuthorId: 该作品的作者id\n",
    "    :param photoId: 作品id\n",
    "    :return: 有没有成功\n",
    "    \"\"\"\n",
    "    json = {\n",
    "        'operationName': \"visionAddComment\",\n",
    "        'query': \"mutation visionAddComment($photoId: String, $photoAuthorId: String, $content: String, $replyToCommentId: ID, $replyTo: ID, $expTag: String) {  (photoId: $photoId, photoAuthorId: $photoAuthorId, content: $content, replyToCommentId: $replyToCommentId, replyTo: $replyTo, expTag: $expTag) {\\n    result\\n    commentId\\n    content\\n    timestamp\\n    status\\n    __typename\\n  }\\n}\\n\",\n",
    "        'variables': {\n",
    "            'content': content,\n",
    "            'expTag': \"1_a/2005158523885162817_xpcwebsearchxxnull0\",\n",
    "            'photoAuthorId': photoAuthorId,\n",
    "            'photoId': photoId\n",
    "        }\n",
    "    }\n",
    "    response = requests.post(url=self.url, json=json, headers=self.headers)\n",
    "    json_data = response.json()\n",
    "    print(json_data)\n",
    "    return json_data"
   ]
  },
  {
   "cell_type": "code",
   "execution_count": 10,
   "id": "ce043348",
   "metadata": {},
   "outputs": [
    {
     "ename": "NameError",
     "evalue": "name 'KuaiShou' is not defined",
     "output_type": "error",
     "traceback": [
      "\u001b[0;31m---------------------------------------------------------------------------\u001b[0m",
      "\u001b[0;31mNameError\u001b[0m                                 Traceback (most recent call last)",
      "Cell \u001b[0;32mIn[10], line 2\u001b[0m\n\u001b[1;32m      1\u001b[0m \u001b[38;5;28;01mif\u001b[39;00m \u001b[38;5;18m__name__\u001b[39m \u001b[38;5;241m==\u001b[39m \u001b[38;5;124m'\u001b[39m\u001b[38;5;124m__main__\u001b[39m\u001b[38;5;124m'\u001b[39m:\n\u001b[0;32m----> 2\u001b[0m     kuaiShou \u001b[38;5;241m=\u001b[39m \u001b[43mKuaiShou\u001b[49m()\n\u001b[1;32m      3\u001b[0m     \u001b[38;5;66;03m# 获取评论\u001b[39;00m\n\u001b[1;32m      4\u001b[0m     kuaiShou\u001b[38;5;241m.\u001b[39mget_comments(\u001b[38;5;124m'\u001b[39m\u001b[38;5;124m3xzry7secwhunai\u001b[39m\u001b[38;5;124m'\u001b[39m, \u001b[38;5;124m'\u001b[39m\u001b[38;5;124m'\u001b[39m)\n",
      "\u001b[0;31mNameError\u001b[0m: name 'KuaiShou' is not defined"
     ]
    }
   ],
   "source": [
    "if __name__ == '__main__':\n",
    "    kuaishou = KuaiShou()\n",
    "    # 获取评论\n",
    "    kuaishou.get_comments('3xzry7secwhunai', '')\n",
    "    # 发布评论\n",
    "    kuaishou.post_comment('爱你', '3xgz9zaku7hig96', '3xydesqbvtrvcuq')\n"
   ]
  },
  {
   "cell_type": "code",
   "execution_count": null,
   "id": "c7e8af0c",
   "metadata": {},
   "outputs": [],
   "source": [
    "from selenium import webdriver\n",
    "c=webdriver.Chrome() #获取chrome浏览器的驱动，并启动Chrome浏览器\n",
    "c.get('https://www.baidu.com')#打开百度\n"
   ]
  },
  {
   "cell_type": "code",
   "execution_count": null,
   "id": "a080d737",
   "metadata": {},
   "outputs": [],
   "source": []
  }
 ],
 "metadata": {
  "kernelspec": {
   "display_name": "Python 3 (ipykernel)",
   "language": "python",
   "name": "python3"
  },
  "language_info": {
   "codemirror_mode": {
    "name": "ipython",
    "version": 3
   },
   "file_extension": ".py",
   "mimetype": "text/x-python",
   "name": "python",
   "nbconvert_exporter": "python",
   "pygments_lexer": "ipython3",
   "version": "3.8.8"
  }
 },
 "nbformat": 4,
 "nbformat_minor": 5
}
